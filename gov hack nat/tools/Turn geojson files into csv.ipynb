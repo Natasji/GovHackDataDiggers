{
 "cells": [
  {
   "cell_type": "markdown",
   "metadata": {},
   "source": [
    "# Turn geojson files into csv\n",
    "put the file in the same directory and run"
   ]
  },
  {
   "cell_type": "code",
   "execution_count": 11,
   "metadata": {},
   "outputs": [
    {
     "name": "stdout",
     "output_type": "stream",
     "text": [
      "Found .geojson file: Traffic_Count_Locations.geojson\n",
      "Traffic_Count_Locations.geojson\n"
     ]
    }
   ],
   "source": [
    "import geopandas as gpd\n",
    "import os\n",
    "\n",
    "def read_geojson_file(file_path):\n",
    "    return gpd.read_file(file_path)\n",
    "\n",
    "def geojson_to_csv(geojson_data, csv_file_path):\n",
    "    # Extract the necessary attributes and location\n",
    "    geojson_data['latitude'] = geojson_data.geometry.y\n",
    "    geojson_data['longitude'] = geojson_data.geometry.x\n",
    "    # Drop the geometry column as it's no longer needed\n",
    "    geojson_data = geojson_data.drop(columns='geometry')\n",
    "    # Save to CSV\n",
    "    geojson_data.to_csv(csv_file_path, index=False)\n",
    "    \n",
    "# Get the geojson file in the same directory\n",
    "notebook_dir = os.getcwd()\n",
    "\n",
    "# Search for .geojson file in the directory\n",
    "for root, dirs, files in os.walk(notebook_dir):\n",
    "    for f in files:\n",
    "        if f.endswith('.geojson'):\n",
    "            file = f\n",
    "            break\n",
    "\n",
    "if file is None:\n",
    "    print(\"No .geojson file found in the directory.\")\n",
    "else:\n",
    "    print(\"Found .geojson file:\", file)\n",
    "\n",
    "print(file)\n",
    "file_name = os.path.splitext(file)[0]  # Get the file name without extension\n",
    "csv_file_path = file_name + '.csv'\n",
    "\n",
    "geojson_data = read_geojson_file(file)\n",
    "geojson_to_csv(geojson_data, csv_file_path)\n"
   ]
  }
 ],
 "metadata": {
  "kernelspec": {
   "display_name": "Python 3",
   "language": "python",
   "name": "python3"
  },
  "language_info": {
   "codemirror_mode": {
    "name": "ipython",
    "version": 3
   },
   "file_extension": ".py",
   "mimetype": "text/x-python",
   "name": "python",
   "nbconvert_exporter": "python",
   "pygments_lexer": "ipython3",
   "version": "3.11.9"
  }
 },
 "nbformat": 4,
 "nbformat_minor": 2
}
