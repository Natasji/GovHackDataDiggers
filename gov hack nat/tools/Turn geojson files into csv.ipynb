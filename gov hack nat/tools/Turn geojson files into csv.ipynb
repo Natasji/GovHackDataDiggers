{
 "cells": [
  {
   "cell_type": "markdown",
   "metadata": {},
   "source": [
    "# Turn geojson files into csv\n",
    "put the file in the same directory and run"
   ]
  },
  {
   "cell_type": "code",
   "execution_count": 14,
   "metadata": {},
   "outputs": [
    {
     "name": "stderr",
     "output_type": "stream",
     "text": [
      "Skipping field suburbs: unsupported OGR type: 5\n",
      "Skipping field state_electorates: unsupported OGR type: 5\n",
      "Skipping field zone_conditions: unsupported OGR type: 5\n",
      "Skipping field postcodes: unsupported OGR type: 5\n",
      "Skipping field lgas: unsupported OGR type: 5\n"
     ]
    },
    {
     "name": "stdout",
     "output_type": "stream",
     "text": [
      "Found .geojson file: Speed_Zones_August_2024.geojson\n",
      "Speed_Zones_August_2024.geojson\n"
     ]
    },
    {
     "ename": "ValueError",
     "evalue": "y attribute access only provided for Point geometries",
     "output_type": "error",
     "traceback": [
      "\u001b[1;31m---------------------------------------------------------------------------\u001b[0m",
      "\u001b[1;31mValueError\u001b[0m                                Traceback (most recent call last)",
      "Cell \u001b[1;32mIn[14], line 36\u001b[0m\n\u001b[0;32m     33\u001b[0m csv_file_path \u001b[38;5;241m=\u001b[39m file_name \u001b[38;5;241m+\u001b[39m \u001b[38;5;124m'\u001b[39m\u001b[38;5;124m_csv.csv\u001b[39m\u001b[38;5;124m'\u001b[39m\n\u001b[0;32m     35\u001b[0m geojson_data \u001b[38;5;241m=\u001b[39m read_geojson_file(file)\n\u001b[1;32m---> 36\u001b[0m \u001b[43mgeojson_to_csv\u001b[49m\u001b[43m(\u001b[49m\u001b[43mgeojson_data\u001b[49m\u001b[43m,\u001b[49m\u001b[43m \u001b[49m\u001b[43mcsv_file_path\u001b[49m\u001b[43m)\u001b[49m\n",
      "Cell \u001b[1;32mIn[14], line 9\u001b[0m, in \u001b[0;36mgeojson_to_csv\u001b[1;34m(geojson_data, csv_file_path)\u001b[0m\n\u001b[0;32m      7\u001b[0m \u001b[38;5;28;01mdef\u001b[39;00m \u001b[38;5;21mgeojson_to_csv\u001b[39m(geojson_data, csv_file_path):\n\u001b[0;32m      8\u001b[0m     \u001b[38;5;66;03m# Extract the necessary attributes and location\u001b[39;00m\n\u001b[1;32m----> 9\u001b[0m     geojson_data[\u001b[38;5;124m'\u001b[39m\u001b[38;5;124mlatitude\u001b[39m\u001b[38;5;124m'\u001b[39m] \u001b[38;5;241m=\u001b[39m \u001b[43mgeojson_data\u001b[49m\u001b[38;5;241;43m.\u001b[39;49m\u001b[43mgeometry\u001b[49m\u001b[38;5;241;43m.\u001b[39;49m\u001b[43my\u001b[49m\n\u001b[0;32m     10\u001b[0m     geojson_data[\u001b[38;5;124m'\u001b[39m\u001b[38;5;124mlongitude\u001b[39m\u001b[38;5;124m'\u001b[39m] \u001b[38;5;241m=\u001b[39m geojson_data\u001b[38;5;241m.\u001b[39mgeometry\u001b[38;5;241m.\u001b[39mx\n\u001b[0;32m     11\u001b[0m     \u001b[38;5;66;03m# Drop the geometry column as it's no longer needed\u001b[39;00m\n",
      "File \u001b[1;32m~\\AppData\\Local\\Packages\\PythonSoftwareFoundation.Python.3.11_qbz5n2kfra8p0\\LocalCache\\local-packages\\Python311\\site-packages\\geopandas\\geoseries.py:309\u001b[0m, in \u001b[0;36mGeoSeries.y\u001b[1;34m(self)\u001b[0m\n\u001b[0;32m    283\u001b[0m \u001b[38;5;129m@property\u001b[39m\n\u001b[0;32m    284\u001b[0m \u001b[38;5;28;01mdef\u001b[39;00m \u001b[38;5;21my\u001b[39m(\u001b[38;5;28mself\u001b[39m) \u001b[38;5;241m-\u001b[39m\u001b[38;5;241m>\u001b[39m Series:\n\u001b[0;32m    285\u001b[0m \u001b[38;5;250m    \u001b[39m\u001b[38;5;124;03m\"\"\"Return the y location of point geometries in a GeoSeries\u001b[39;00m\n\u001b[0;32m    286\u001b[0m \n\u001b[0;32m    287\u001b[0m \u001b[38;5;124;03m    Returns\u001b[39;00m\n\u001b[1;32m   (...)\u001b[0m\n\u001b[0;32m    307\u001b[0m \n\u001b[0;32m    308\u001b[0m \u001b[38;5;124;03m    \"\"\"\u001b[39;00m\n\u001b[1;32m--> 309\u001b[0m     \u001b[38;5;28;01mreturn\u001b[39;00m \u001b[43m_delegate_property\u001b[49m\u001b[43m(\u001b[49m\u001b[38;5;124;43m\"\u001b[39;49m\u001b[38;5;124;43my\u001b[39;49m\u001b[38;5;124;43m\"\u001b[39;49m\u001b[43m,\u001b[49m\u001b[43m \u001b[49m\u001b[38;5;28;43mself\u001b[39;49m\u001b[43m)\u001b[49m\n",
      "File \u001b[1;32m~\\AppData\\Local\\Packages\\PythonSoftwareFoundation.Python.3.11_qbz5n2kfra8p0\\LocalCache\\local-packages\\Python311\\site-packages\\geopandas\\base.py:83\u001b[0m, in \u001b[0;36m_delegate_property\u001b[1;34m(op, this)\u001b[0m\n\u001b[0;32m     80\u001b[0m \u001b[38;5;28;01mdef\u001b[39;00m \u001b[38;5;21m_delegate_property\u001b[39m(op, this):\n\u001b[0;32m     81\u001b[0m     \u001b[38;5;66;03m# type: (str, GeoSeries) -> GeoSeries/Series\u001b[39;00m\n\u001b[0;32m     82\u001b[0m     a_this \u001b[38;5;241m=\u001b[39m GeometryArray(this\u001b[38;5;241m.\u001b[39mgeometry\u001b[38;5;241m.\u001b[39mvalues)\n\u001b[1;32m---> 83\u001b[0m     data \u001b[38;5;241m=\u001b[39m \u001b[38;5;28;43mgetattr\u001b[39;49m\u001b[43m(\u001b[49m\u001b[43ma_this\u001b[49m\u001b[43m,\u001b[49m\u001b[43m \u001b[49m\u001b[43mop\u001b[49m\u001b[43m)\u001b[49m\n\u001b[0;32m     84\u001b[0m     \u001b[38;5;28;01mif\u001b[39;00m \u001b[38;5;28misinstance\u001b[39m(data, GeometryArray):\n\u001b[0;32m     85\u001b[0m         \u001b[38;5;28;01mfrom\u001b[39;00m \u001b[38;5;21;01m.\u001b[39;00m\u001b[38;5;21;01mgeoseries\u001b[39;00m \u001b[38;5;28;01mimport\u001b[39;00m GeoSeries\n",
      "File \u001b[1;32m~\\AppData\\Local\\Packages\\PythonSoftwareFoundation.Python.3.11_qbz5n2kfra8p0\\LocalCache\\local-packages\\Python311\\site-packages\\geopandas\\array.py:1139\u001b[0m, in \u001b[0;36mGeometryArray.y\u001b[1;34m(self)\u001b[0m\n\u001b[0;32m   1137\u001b[0m \u001b[38;5;28;01melse\u001b[39;00m:\n\u001b[0;32m   1138\u001b[0m     message \u001b[38;5;241m=\u001b[39m \u001b[38;5;124m\"\u001b[39m\u001b[38;5;124my attribute access only provided for Point geometries\u001b[39m\u001b[38;5;124m\"\u001b[39m\n\u001b[1;32m-> 1139\u001b[0m     \u001b[38;5;28;01mraise\u001b[39;00m \u001b[38;5;167;01mValueError\u001b[39;00m(message)\n",
      "\u001b[1;31mValueError\u001b[0m: y attribute access only provided for Point geometries"
     ]
    }
   ],
   "source": [
    "import geopandas as gpd\n",
    "import os\n",
    "\n",
    "def read_geojson_file(file_path):\n",
    "    return gpd.read_file(file_path)\n",
    "\n",
    "def geojson_to_csv(geojson_data, csv_file_path):\n",
    "    # Extract the necessary attributes and location\n",
    "    geojson_data['latitude'] = geojson_data.geometry.y\n",
    "    geojson_data['longitude'] = geojson_data.geometry.x\n",
    "    # Drop the geometry column as it's no longer needed\n",
    "    geojson_data = geojson_data.drop(columns='geometry')\n",
    "    # Save to CSV\n",
    "    geojson_data.to_csv(csv_file_path, index=False)\n",
    "    \n",
    "# Get the geojson file in the same directory\n",
    "notebook_dir = os.getcwd()\n",
    "\n",
    "# Search for .geojson file in the directory\n",
    "for root, dirs, files in os.walk(notebook_dir):\n",
    "    for f in files:\n",
    "        if f.endswith('.geojson'):\n",
    "            file = f\n",
    "            break\n",
    "\n",
    "if file is None:\n",
    "    print(\"No .geojson file found in the directory.\")\n",
    "else:\n",
    "    print(\"Found .geojson file:\", file)\n",
    "\n",
    "print(file)\n",
    "file_name = os.path.splitext(file)[0]  # Get the file name without extension\n",
    "csv_file_path = file_name + '_csv.csv'\n",
    "\n",
    "geojson_data = read_geojson_file(file)\n",
    "geojson_to_csv(geojson_data, csv_file_path)\n"
   ]
  }
 ],
 "metadata": {
  "kernelspec": {
   "display_name": "Python 3",
   "language": "python",
   "name": "python3"
  },
  "language_info": {
   "codemirror_mode": {
    "name": "ipython",
    "version": 3
   },
   "file_extension": ".py",
   "mimetype": "text/x-python",
   "name": "python",
   "nbconvert_exporter": "python",
   "pygments_lexer": "ipython3",
   "version": "3.11.9"
  }
 },
 "nbformat": 4,
 "nbformat_minor": 2
}
