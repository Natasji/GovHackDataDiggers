{
 "cells": [
  {
   "cell_type": "markdown",
   "metadata": {},
   "source": [
    "experiment of merging behaviour"
   ]
  },
  {
   "cell_type": "code",
   "execution_count": 4,
   "metadata": {},
   "outputs": [
    {
     "name": "stdout",
     "output_type": "stream",
     "text": [
      "   id value_df value_temp_df\n",
      "0   1        A           NaN\n",
      "1   2        B             X\n",
      "2   3        C           NaN\n"
     ]
    },
    {
     "name": "stderr",
     "output_type": "stream",
     "text": [
      "C:\\Users\\Natas\\AppData\\Local\\Temp\\ipykernel_51992\\3379607262.py:25: UserWarning: You are merging on int and float columns where the float values are not equal to their int representation.\n",
      "  df = pd.merge(df, temp_df, on=dataset['file1']['id'], how='left')\n"
     ]
    }
   ],
   "source": [
    "import pandas as pd\n",
    "\n",
    "# Main DataFrame df\n",
    "df = pd.DataFrame({\n",
    "    'id': [1, 2, 3],\n",
    "    'value_df': ['A', 'B', 'C']\n",
    "})\n",
    "\n",
    "# Temporary DataFrame temp_df\n",
    "temp_df = pd.DataFrame({\n",
    "    'id': [2, 2.1, 4],\n",
    "    'value_temp_df': ['X', 'Y', 'Z']\n",
    "})\n",
    "\n",
    "# Dataset dictionary\n",
    "dataset = {\n",
    "    'file1': {\n",
    "        'file': 'path/to/file.csv',\n",
    "        'columns': ['id', 'value_temp_df'],\n",
    "        'id': 'id'\n",
    "    }\n",
    "}\n",
    "\n",
    "# Merging df with temp_df using a left join\n",
    "df = pd.merge(df, temp_df, on=dataset['file1']['id'], how='left')\n",
    "\n",
    "# Display the updated df DataFrame\n",
    "print(df)"
   ]
  }
 ],
 "metadata": {
  "kernelspec": {
   "display_name": "Python 3",
   "language": "python",
   "name": "python3"
  },
  "language_info": {
   "codemirror_mode": {
    "name": "ipython",
    "version": 3
   },
   "file_extension": ".py",
   "mimetype": "text/x-python",
   "name": "python",
   "nbconvert_exporter": "python",
   "pygments_lexer": "ipython3",
   "version": "3.11.9"
  }
 },
 "nbformat": 4,
 "nbformat_minor": 2
}
